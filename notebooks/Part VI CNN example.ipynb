{
 "cells": [
  {
   "cell_type": "code",
   "execution_count": 1,
   "metadata": {},
   "outputs": [],
   "source": [
    "import numpy as np\n",
    "import pandas as pd\n",
    "import matplotlib.pyplot as plt\n",
    "import os"
   ]
  },
  {
   "cell_type": "code",
   "execution_count": 2,
   "metadata": {},
   "outputs": [],
   "source": [
    "from PIL import Image\n",
    "from data.utils import show_random"
   ]
  },
  {
   "cell_type": "code",
   "execution_count": 3,
   "metadata": {},
   "outputs": [
    {
     "name": "stderr",
     "output_type": "stream",
     "text": [
      "Using TensorFlow backend.\n"
     ]
    }
   ],
   "source": [
    "from keras.models import Sequential\n",
    "from keras.layers import Dense, Dropout, Flatten, Conv2D, MaxPooling2D\n",
    "from keras.losses import binary_crossentropy, categorical_crossentropy\n",
    "from keras.optimizers import Adadelta"
   ]
  },
  {
   "cell_type": "markdown",
   "metadata": {},
   "source": [
    "# Read the data: morphological labels"
   ]
  },
  {
   "cell_type": "markdown",
   "metadata": {},
   "source": [
    "Labels, assigned visually by astronomers in the GAMA collaboration:"
   ]
  },
  {
   "cell_type": "code",
   "execution_count": 4,
   "metadata": {},
   "outputs": [],
   "source": [
    "morph = pd.read_csv(os.path.join(\"data\",\"morphology.txt\"), sep=\" \")"
   ]
  },
  {
   "cell_type": "markdown",
   "metadata": {},
   "source": [
    "There are two distinct labels, with no info on self-consistency: HubbleType and isElliptical"
   ]
  },
  {
   "cell_type": "code",
   "execution_count": 5,
   "metadata": {},
   "outputs": [
    {
     "data": {
      "text/html": [
       "<div>\n",
       "<style scoped>\n",
       "    .dataframe tbody tr th:only-of-type {\n",
       "        vertical-align: middle;\n",
       "    }\n",
       "\n",
       "    .dataframe tbody tr th {\n",
       "        vertical-align: top;\n",
       "    }\n",
       "\n",
       "    .dataframe thead th {\n",
       "        text-align: right;\n",
       "    }\n",
       "</style>\n",
       "<table border=\"1\" class=\"dataframe\">\n",
       "  <thead>\n",
       "    <tr style=\"text-align: right;\">\n",
       "      <th></th>\n",
       "      <th>id</th>\n",
       "      <th>HubbleType</th>\n",
       "      <th>isElliptical</th>\n",
       "    </tr>\n",
       "  </thead>\n",
       "  <tbody>\n",
       "    <tr>\n",
       "      <th>0</th>\n",
       "      <td>6802</td>\n",
       "      <td>Sd-Irr</td>\n",
       "      <td>NotElliptical</td>\n",
       "    </tr>\n",
       "    <tr>\n",
       "      <th>1</th>\n",
       "      <td>6821</td>\n",
       "      <td>Sd-Irr</td>\n",
       "      <td>NotElliptical</td>\n",
       "    </tr>\n",
       "    <tr>\n",
       "      <th>2</th>\n",
       "      <td>6826</td>\n",
       "      <td>-</td>\n",
       "      <td>LBS</td>\n",
       "    </tr>\n",
       "    <tr>\n",
       "      <th>3</th>\n",
       "      <td>6844</td>\n",
       "      <td>-</td>\n",
       "      <td>Elliptical</td>\n",
       "    </tr>\n",
       "    <tr>\n",
       "      <th>4</th>\n",
       "      <td>6974</td>\n",
       "      <td>-</td>\n",
       "      <td>Elliptical</td>\n",
       "    </tr>\n",
       "  </tbody>\n",
       "</table>\n",
       "</div>"
      ],
      "text/plain": [
       "     id HubbleType   isElliptical\n",
       "0  6802     Sd-Irr  NotElliptical\n",
       "1  6821     Sd-Irr  NotElliptical\n",
       "2  6826          -            LBS\n",
       "3  6844          -     Elliptical\n",
       "4  6974          -     Elliptical"
      ]
     },
     "execution_count": 5,
     "metadata": {},
     "output_type": "execute_result"
    }
   ],
   "source": [
    "morph.head()"
   ]
  },
  {
   "cell_type": "markdown",
   "metadata": {},
   "source": [
    "2451 galaxies do not have a HubbleType:"
   ]
  },
  {
   "cell_type": "code",
   "execution_count": 6,
   "metadata": {},
   "outputs": [
    {
     "data": {
      "text/plain": [
       "Sd-Irr     2698\n",
       "-          2451\n",
       "Sab-Scd    1200\n",
       "LBS         623\n",
       "E           613\n",
       "S0-Sa       571\n",
       "Name: HubbleType, dtype: int64"
      ]
     },
     "execution_count": 6,
     "metadata": {},
     "output_type": "execute_result"
    }
   ],
   "source": [
    "morph.HubbleType.value_counts()"
   ]
  },
  {
   "cell_type": "code",
   "execution_count": 7,
   "metadata": {},
   "outputs": [
    {
     "data": {
      "text/plain": [
       "NotElliptical    4676\n",
       "Elliptical       2688\n",
       "LBS               792\n",
       "Name: isElliptical, dtype: int64"
      ]
     },
     "execution_count": 7,
     "metadata": {},
     "output_type": "execute_result"
    }
   ],
   "source": [
    "morph.isElliptical.value_counts()"
   ]
  },
  {
   "cell_type": "code",
   "execution_count": null,
   "metadata": {},
   "outputs": [],
   "source": []
  },
  {
   "cell_type": "markdown",
   "metadata": {},
   "source": [
    "# Process the labels"
   ]
  },
  {
   "cell_type": "markdown",
   "metadata": {},
   "source": [
    "Our goal will be to develop a model which can predict a correct label given a galaxy image.\n",
    "\n",
    "Let's focus on predicting the `isElliptical` label, and take a random sample of 2500 galaxies with the label \"Elliptical\" and 2500 with the label \"NotElliptical\".  We will also need to select the corresponding images."
   ]
  },
  {
   "cell_type": "code",
   "execution_count": 8,
   "metadata": {},
   "outputs": [
    {
     "data": {
      "text/html": [
       "<div>\n",
       "<style scoped>\n",
       "    .dataframe tbody tr th:only-of-type {\n",
       "        vertical-align: middle;\n",
       "    }\n",
       "\n",
       "    .dataframe tbody tr th {\n",
       "        vertical-align: top;\n",
       "    }\n",
       "\n",
       "    .dataframe thead th {\n",
       "        text-align: right;\n",
       "    }\n",
       "</style>\n",
       "<table border=\"1\" class=\"dataframe\">\n",
       "  <thead>\n",
       "    <tr style=\"text-align: right;\">\n",
       "      <th></th>\n",
       "      <th>id</th>\n",
       "      <th>HubbleType</th>\n",
       "      <th>isElliptical</th>\n",
       "    </tr>\n",
       "  </thead>\n",
       "  <tbody>\n",
       "    <tr>\n",
       "      <th>3201</th>\n",
       "      <td>240205</td>\n",
       "      <td>Sd-Irr</td>\n",
       "      <td>NotElliptical</td>\n",
       "    </tr>\n",
       "    <tr>\n",
       "      <th>407</th>\n",
       "      <td>37051</td>\n",
       "      <td>Sd-Irr</td>\n",
       "      <td>NotElliptical</td>\n",
       "    </tr>\n",
       "    <tr>\n",
       "      <th>1924</th>\n",
       "      <td>138468</td>\n",
       "      <td>LBS</td>\n",
       "      <td>NotElliptical</td>\n",
       "    </tr>\n",
       "    <tr>\n",
       "      <th>4784</th>\n",
       "      <td>362282</td>\n",
       "      <td>Sab-Scd</td>\n",
       "      <td>NotElliptical</td>\n",
       "    </tr>\n",
       "    <tr>\n",
       "      <th>1139</th>\n",
       "      <td>79862</td>\n",
       "      <td>Sd-Irr</td>\n",
       "      <td>NotElliptical</td>\n",
       "    </tr>\n",
       "  </tbody>\n",
       "</table>\n",
       "</div>"
      ],
      "text/plain": [
       "          id HubbleType   isElliptical\n",
       "3201  240205     Sd-Irr  NotElliptical\n",
       "407    37051     Sd-Irr  NotElliptical\n",
       "1924  138468        LBS  NotElliptical\n",
       "4784  362282    Sab-Scd  NotElliptical\n",
       "1139   79862     Sd-Irr  NotElliptical"
      ]
     },
     "execution_count": 8,
     "metadata": {},
     "output_type": "execute_result"
    }
   ],
   "source": [
    "mask = morph.isElliptical == \"NotElliptical\"\n",
    "df0 = morph[mask].sample(2500, random_state=0)\n",
    "df0.head()"
   ]
  },
  {
   "cell_type": "code",
   "execution_count": 9,
   "metadata": {},
   "outputs": [
    {
     "data": {
      "text/html": [
       "<div>\n",
       "<style scoped>\n",
       "    .dataframe tbody tr th:only-of-type {\n",
       "        vertical-align: middle;\n",
       "    }\n",
       "\n",
       "    .dataframe tbody tr th {\n",
       "        vertical-align: top;\n",
       "    }\n",
       "\n",
       "    .dataframe thead th {\n",
       "        text-align: right;\n",
       "    }\n",
       "</style>\n",
       "<table border=\"1\" class=\"dataframe\">\n",
       "  <thead>\n",
       "    <tr style=\"text-align: right;\">\n",
       "      <th></th>\n",
       "      <th>id</th>\n",
       "      <th>HubbleType</th>\n",
       "      <th>isElliptical</th>\n",
       "    </tr>\n",
       "  </thead>\n",
       "  <tbody>\n",
       "    <tr>\n",
       "      <th>5316</th>\n",
       "      <td>388513</td>\n",
       "      <td>-</td>\n",
       "      <td>Elliptical</td>\n",
       "    </tr>\n",
       "    <tr>\n",
       "      <th>8038</th>\n",
       "      <td>3878589</td>\n",
       "      <td>-</td>\n",
       "      <td>Elliptical</td>\n",
       "    </tr>\n",
       "    <tr>\n",
       "      <th>6161</th>\n",
       "      <td>511892</td>\n",
       "      <td>E</td>\n",
       "      <td>Elliptical</td>\n",
       "    </tr>\n",
       "    <tr>\n",
       "      <th>5190</th>\n",
       "      <td>381227</td>\n",
       "      <td>E</td>\n",
       "      <td>Elliptical</td>\n",
       "    </tr>\n",
       "    <tr>\n",
       "      <th>1214</th>\n",
       "      <td>91328</td>\n",
       "      <td>-</td>\n",
       "      <td>Elliptical</td>\n",
       "    </tr>\n",
       "  </tbody>\n",
       "</table>\n",
       "</div>"
      ],
      "text/plain": [
       "           id HubbleType isElliptical\n",
       "5316   388513          -   Elliptical\n",
       "8038  3878589          -   Elliptical\n",
       "6161   511892          E   Elliptical\n",
       "5190   381227          E   Elliptical\n",
       "1214    91328          -   Elliptical"
      ]
     },
     "execution_count": 9,
     "metadata": {},
     "output_type": "execute_result"
    }
   ],
   "source": [
    "mask = morph.isElliptical == \"Elliptical\"\n",
    "df1 = morph[mask].sample(2500, random_state=0)\n",
    "df1.head()"
   ]
  },
  {
   "cell_type": "markdown",
   "metadata": {},
   "source": [
    "Merge the data frames and check it is sensible:"
   ]
  },
  {
   "cell_type": "code",
   "execution_count": 10,
   "metadata": {},
   "outputs": [],
   "source": [
    "data = pd.concat( (df0,df1) )"
   ]
  },
  {
   "cell_type": "code",
   "execution_count": 11,
   "metadata": {},
   "outputs": [
    {
     "data": {
      "text/plain": [
       "Elliptical       2500\n",
       "NotElliptical    2500\n",
       "Name: isElliptical, dtype: int64"
      ]
     },
     "execution_count": 11,
     "metadata": {},
     "output_type": "execute_result"
    }
   ],
   "source": [
    "data.isElliptical.value_counts()"
   ]
  },
  {
   "cell_type": "markdown",
   "metadata": {},
   "source": [
    "Create an array of integer labels, i.e. convert the string labels 'Elliptical' and 'NotElliptical' to integers"
   ]
  },
  {
   "cell_type": "code",
   "execution_count": 12,
   "metadata": {},
   "outputs": [],
   "source": [
    "labdict = { 'NotElliptical':0, 'Elliptical':1 }\n",
    "labels = np.array( [ labdict[s] for s in data.isElliptical ] )"
   ]
  },
  {
   "cell_type": "code",
   "execution_count": null,
   "metadata": {},
   "outputs": [],
   "source": []
  },
  {
   "cell_type": "markdown",
   "metadata": {},
   "source": [
    "# Read the data: galaxy images\n",
    "\n",
    "Read the images associated with our subset of the label data (with IDs lining up row by row)"
   ]
  },
  {
   "cell_type": "code",
   "execution_count": 13,
   "metadata": {},
   "outputs": [],
   "source": [
    "loa = [ np.array( Image.open(os.path.join(\"data\",\"images\",\"{}_giH.png\").format(i)), dtype=np.uint8 ) for i in data.id ]\n",
    "images = np.array( loa )"
   ]
  },
  {
   "cell_type": "markdown",
   "metadata": {},
   "source": [
    "There are 5000 total images, and each one has size 28x28x3 pixels:"
   ]
  },
  {
   "cell_type": "code",
   "execution_count": 14,
   "metadata": {},
   "outputs": [
    {
     "data": {
      "text/plain": [
       "(5000, 28, 28, 3)"
      ]
     },
     "execution_count": 14,
     "metadata": {},
     "output_type": "execute_result"
    }
   ],
   "source": [
    "images.shape"
   ]
  },
  {
   "cell_type": "markdown",
   "metadata": {},
   "source": [
    "Currently, the image data is stored as integer values in the range of 0 to 255.  For machine learning applications, we need to rescale this data to the range 0 to 1 and convert to float."
   ]
  },
  {
   "cell_type": "code",
   "execution_count": null,
   "metadata": {},
   "outputs": [],
   "source": [
    "print( images.min(), images.max() )"
   ]
  },
  {
   "cell_type": "code",
   "execution_count": null,
   "metadata": {},
   "outputs": [],
   "source": [
    "images = np.float32(images)/255."
   ]
  },
  {
   "cell_type": "code",
   "execution_count": null,
   "metadata": {},
   "outputs": [],
   "source": [
    "print( images.min(), images.max() )"
   ]
  },
  {
   "cell_type": "code",
   "execution_count": null,
   "metadata": {},
   "outputs": [],
   "source": []
  },
  {
   "cell_type": "markdown",
   "metadata": {},
   "source": [
    "# Inspect the data"
   ]
  },
  {
   "cell_type": "markdown",
   "metadata": {},
   "source": [
    "To recap, our data has been processed into two numpy arrays: `images` and `labels`.\n",
    "\n",
    "Let's look at some random galaxies in the dataset along with their label (0=NotElliptical, 1=Elliptical)"
   ]
  },
  {
   "cell_type": "code",
   "execution_count": null,
   "metadata": {},
   "outputs": [],
   "source": [
    "show_random(images, labels )"
   ]
  },
  {
   "cell_type": "code",
   "execution_count": null,
   "metadata": {},
   "outputs": [],
   "source": []
  },
  {
   "cell_type": "markdown",
   "metadata": {},
   "source": [
    "# Build the CNN"
   ]
  },
  {
   "cell_type": "code",
   "execution_count": 15,
   "metadata": {},
   "outputs": [
    {
     "data": {
      "text/plain": [
       "(28, 28, 3)"
      ]
     },
     "execution_count": 15,
     "metadata": {},
     "output_type": "execute_result"
    }
   ],
   "source": [
    "images.shape[1:]"
   ]
  },
  {
   "cell_type": "code",
   "execution_count": 16,
   "metadata": {},
   "outputs": [],
   "source": [
    "def build( input_shape=images.shape[1:], num_classes=len(np.unique(labels)) ):\n",
    "    # note the input shape is simply the shape of 'x' without the first dimension = (50,50,1)\n",
    "    # i.e. the number of datapoints in the training set does not matter\n",
    "        \n",
    "    model = Sequential()\n",
    "    \n",
    "    # Layers:\n",
    "    model.add(Conv2D(3, input_shape=input_shape, kernel_size=(3, 3), activation='relu'))\n",
    "    #model.add(MaxPooling2D(pool_size=(2, 2)))\n",
    "    model.add(Dropout(0.25))\n",
    "    \n",
    "    model.add(Conv2D(3, (3, 3), activation='relu'))\n",
    "    #model.add(MaxPooling2D(pool_size=(2, 2)))\n",
    "    model.add(Dropout(0.25))\n",
    "    \n",
    "    model.add(Conv2D(4, (2, 2), activation='relu'))\n",
    "    #model.add(MaxPooling2D(pool_size=(3, 3)))\n",
    "    model.add(Dropout(0.25))\n",
    "    \n",
    "    model.add(Flatten())\n",
    "    #model.add(Dense(128, activation='relu'))\n",
    "    #model.add(Dropout(0.5))\n",
    "    \n",
    "    # Final layer (fully connected)\n",
    "    if num_classes == 2:\n",
    "        model.add( Dense(1, activation='sigmoid') )\n",
    "        model.compile( optimizer=Adadelta(), loss=binary_crossentropy, metrics=['accuracy'] )\n",
    "    elif num_classes > 2:\n",
    "        model.add(Dense(num_classes, activation='softmax'))\n",
    "        model.compile(optimizer=Adadelta(), loss=categorical_crossentropy, metrics=['accuracy'])\n",
    "    \n",
    "    return model"
   ]
  },
  {
   "cell_type": "code",
   "execution_count": 17,
   "metadata": {},
   "outputs": [
    {
     "name": "stdout",
     "output_type": "stream",
     "text": [
      "_________________________________________________________________\n",
      "Layer (type)                 Output Shape              Param #   \n",
      "=================================================================\n",
      "conv2d_1 (Conv2D)            (None, 26, 26, 3)         84        \n",
      "_________________________________________________________________\n",
      "dropout_1 (Dropout)          (None, 26, 26, 3)         0         \n",
      "_________________________________________________________________\n",
      "conv2d_2 (Conv2D)            (None, 24, 24, 3)         84        \n",
      "_________________________________________________________________\n",
      "dropout_2 (Dropout)          (None, 24, 24, 3)         0         \n",
      "_________________________________________________________________\n",
      "conv2d_3 (Conv2D)            (None, 23, 23, 4)         52        \n",
      "_________________________________________________________________\n",
      "dropout_3 (Dropout)          (None, 23, 23, 4)         0         \n",
      "_________________________________________________________________\n",
      "flatten_1 (Flatten)          (None, 2116)              0         \n",
      "_________________________________________________________________\n",
      "dense_1 (Dense)              (None, 1)                 2117      \n",
      "=================================================================\n",
      "Total params: 2,337\n",
      "Trainable params: 2,337\n",
      "Non-trainable params: 0\n",
      "_________________________________________________________________\n"
     ]
    }
   ],
   "source": [
    "model = build()\n",
    "model.summary()"
   ]
  },
  {
   "cell_type": "code",
   "execution_count": null,
   "metadata": {},
   "outputs": [],
   "source": []
  },
  {
   "cell_type": "markdown",
   "metadata": {},
   "source": [
    "# Train the model\n",
    "\n",
    "Be sure to reserve some of the data for validation"
   ]
  },
  {
   "cell_type": "code",
   "execution_count": 18,
   "metadata": {
    "scrolled": false
   },
   "outputs": [
    {
     "name": "stdout",
     "output_type": "stream",
     "text": [
      "Train on 4000 samples, validate on 1000 samples\n",
      "Epoch 1/30\n",
      "4000/4000 [==============================] - 5s 1ms/step - loss: 2.5123 - acc: 0.6022 - val_loss: 0.8835 - val_acc: 0.3760\n",
      "Epoch 2/30\n",
      "4000/4000 [==============================] - 4s 1ms/step - loss: 0.7096 - acc: 0.6150 - val_loss: 0.8354 - val_acc: 0.3350\n",
      "Epoch 3/30\n",
      "4000/4000 [==============================] - 5s 1ms/step - loss: 0.6174 - acc: 0.6345 - val_loss: 0.8291 - val_acc: 0.3430\n",
      "Epoch 4/30\n",
      "4000/4000 [==============================] - 4s 1ms/step - loss: 0.5950 - acc: 0.6465 - val_loss: 0.8644 - val_acc: 0.3540\n",
      "Epoch 5/30\n",
      "4000/4000 [==============================] - 5s 1ms/step - loss: 0.5734 - acc: 0.6660 - val_loss: 0.7430 - val_acc: 0.5020\n",
      "Epoch 6/30\n",
      "4000/4000 [==============================] - 5s 1ms/step - loss: 0.5509 - acc: 0.6873 - val_loss: 0.8023 - val_acc: 0.4660\n",
      "Epoch 7/30\n",
      "4000/4000 [==============================] - 5s 1ms/step - loss: 0.5183 - acc: 0.7570 - val_loss: 0.7453 - val_acc: 0.7660\n",
      "Epoch 8/30\n",
      "4000/4000 [==============================] - 5s 1ms/step - loss: 0.4860 - acc: 0.7800 - val_loss: 0.7488 - val_acc: 0.7620\n",
      "Epoch 9/30\n",
      "4000/4000 [==============================] - 5s 1ms/step - loss: 0.4640 - acc: 0.8005 - val_loss: 0.8382 - val_acc: 0.7120\n",
      "Epoch 10/30\n",
      "4000/4000 [==============================] - 5s 1ms/step - loss: 0.4447 - acc: 0.8043 - val_loss: 0.5000 - val_acc: 0.9210\n",
      "Epoch 11/30\n",
      "4000/4000 [==============================] - 5s 1ms/step - loss: 0.4203 - acc: 0.8220 - val_loss: 0.5871 - val_acc: 0.8470\n",
      "Epoch 12/30\n",
      "4000/4000 [==============================] - 5s 1ms/step - loss: 0.4076 - acc: 0.8267 - val_loss: 1.0732 - val_acc: 0.5890\n",
      "Epoch 13/30\n",
      "4000/4000 [==============================] - 5s 1ms/step - loss: 0.3791 - acc: 0.8458 - val_loss: 0.4426 - val_acc: 0.9290\n",
      "Epoch 14/30\n",
      "4000/4000 [==============================] - 5s 1ms/step - loss: 0.3702 - acc: 0.8485 - val_loss: 0.5002 - val_acc: 0.8760\n",
      "Epoch 15/30\n",
      "4000/4000 [==============================] - 5s 1ms/step - loss: 0.3463 - acc: 0.8542 - val_loss: 1.1183 - val_acc: 0.5290\n",
      "Epoch 16/30\n",
      "4000/4000 [==============================] - 5s 1ms/step - loss: 0.3502 - acc: 0.8552 - val_loss: 0.5496 - val_acc: 0.8360\n",
      "Epoch 17/30\n",
      "4000/4000 [==============================] - 5s 1ms/step - loss: 0.3312 - acc: 0.8700 - val_loss: 0.6226 - val_acc: 0.7790\n",
      "Epoch 18/30\n",
      "4000/4000 [==============================] - 5s 1ms/step - loss: 0.3366 - acc: 0.8640 - val_loss: 0.3229 - val_acc: 0.9740\n",
      "Epoch 19/30\n",
      "4000/4000 [==============================] - 5s 1ms/step - loss: 0.3319 - acc: 0.8650 - val_loss: 0.3318 - val_acc: 0.9660\n",
      "Epoch 20/30\n",
      "4000/4000 [==============================] - 5s 1ms/step - loss: 0.3199 - acc: 0.8708 - val_loss: 0.5939 - val_acc: 0.7780\n",
      "Epoch 21/30\n",
      "4000/4000 [==============================] - 5s 1ms/step - loss: 0.3032 - acc: 0.8798 - val_loss: 0.5468 - val_acc: 0.8100\n",
      "Epoch 22/30\n",
      "4000/4000 [==============================] - 5s 1ms/step - loss: 0.3021 - acc: 0.8775 - val_loss: 0.8226 - val_acc: 0.6410\n",
      "Epoch 23/30\n",
      "4000/4000 [==============================] - 5s 1ms/step - loss: 0.2772 - acc: 0.8915 - val_loss: 0.4830 - val_acc: 0.8520\n",
      "Epoch 24/30\n",
      "4000/4000 [==============================] - 5s 1ms/step - loss: 0.2935 - acc: 0.8820 - val_loss: 0.5019 - val_acc: 0.8370\n",
      "Epoch 25/30\n",
      "4000/4000 [==============================] - 5s 1ms/step - loss: 0.2750 - acc: 0.8930 - val_loss: 0.3348 - val_acc: 0.9420\n",
      "Epoch 26/30\n",
      "4000/4000 [==============================] - 5s 1ms/step - loss: 0.2923 - acc: 0.8832 - val_loss: 0.7129 - val_acc: 0.6990\n",
      "Epoch 27/30\n",
      "4000/4000 [==============================] - 5s 1ms/step - loss: 0.2950 - acc: 0.8760 - val_loss: 0.7135 - val_acc: 0.6840\n",
      "Epoch 28/30\n",
      "4000/4000 [==============================] - 5s 1ms/step - loss: 0.2826 - acc: 0.8868 - val_loss: 0.4592 - val_acc: 0.8500\n",
      "Epoch 29/30\n",
      "4000/4000 [==============================] - 5s 1ms/step - loss: 0.2740 - acc: 0.8885 - val_loss: 0.9955 - val_acc: 0.5450\n",
      "Epoch 30/30\n",
      "4000/4000 [==============================] - 5s 1ms/step - loss: 0.2637 - acc: 0.8920 - val_loss: 0.5314 - val_acc: 0.8000\n"
     ]
    }
   ],
   "source": [
    "model = build()\n",
    "history = model.fit( images, labels, batch_size=128, epochs=30, verbose=1, validation_split=0.2 )\n",
    "\n",
    "# Watch as the training accuracy begins at 50% and slowly climbs to around 90%.  Validation accuracy is similar."
   ]
  },
  {
   "cell_type": "markdown",
   "metadata": {},
   "source": [
    "# Plot the training history "
   ]
  },
  {
   "cell_type": "code",
   "execution_count": 19,
   "metadata": {},
   "outputs": [
    {
     "data": {
      "text/plain": [
       "<matplotlib.legend.Legend at 0x106a838d0>"
      ]
     },
     "execution_count": 19,
     "metadata": {},
     "output_type": "execute_result"
    },
    {
     "data": {
      "image/png": "[encoded data removed]",
      "text/plain": [
       "<Figure size 960x960 with 2 Axes>"
      ]
     },
     "metadata": {
      "needs_background": "light"
     },
     "output_type": "display_data"
    }
   ],
   "source": [
    "import matplotlib.pyplot as plt\n",
    "import pylab\n",
    "history_dict = history.history\n",
    "\n",
    "f, (ax1, ax2) = plt.subplots(2, 1, figsize=(12, 12), dpi= 80)\n",
    "\n",
    "ax1.plot(history_dict['loss'], 'o--', label='Training')\n",
    "ax1.plot(history_dict['val_loss'], 'o--', label='Validation')\n",
    "ax1.set_xlabel('Number of Epocs')\n",
    "ax1.set_ylabel('Loss')\n",
    "ax1.legend()\n",
    "ax2.plot(history_dict['acc'], 'o--', label='Training')\n",
    "ax2.plot(history_dict['val_acc'], 'o--', label='Validation')\n",
    "ax2.set_xlabel('Number of Epocs')\n",
    "ax2.set_ylabel('Accuracy')\n",
    "ax2.legend()"
   ]
  },
  {
   "cell_type": "markdown",
   "metadata": {},
   "source": [
    "# Inspect the predictions\n",
    "\n",
    "- The predictions are probabilities between 0 and 1 that the given galaxy is an Elliptical."
   ]
  },
  {
   "cell_type": "code",
   "execution_count": null,
   "metadata": {},
   "outputs": [],
   "source": [
    "predictions = model.predict( images )[:,0]   # need to subset to get the correct shape"
   ]
  },
  {
   "cell_type": "code",
   "execution_count": null,
   "metadata": {},
   "outputs": [],
   "source": [
    "predictions"
   ]
  },
  {
   "cell_type": "code",
   "execution_count": null,
   "metadata": {},
   "outputs": [],
   "source": [
    "show_random(images, labels, predictions)"
   ]
  },
  {
   "cell_type": "code",
   "execution_count": null,
   "metadata": {},
   "outputs": [],
   "source": []
  },
  {
   "cell_type": "markdown",
   "metadata": {},
   "source": [
    "## Your turn:\n",
    "- confusion matrix\n",
    "- plot the distribution of predicted probabilities for each class\n",
    "- plot which images are misclassified; develop intuition for improving the model\n",
    "- consider tweaking the architecture, e.g. see how different Conv2D or Dropout or MaxPooling affects the result\n",
    "\n",
    "- the dataframe you loaded has more granular data, i.e. the HubbleType. See if you can implement a CNN to predict more than one class\n"
   ]
  },
  {
   "cell_type": "code",
   "execution_count": null,
   "metadata": {},
   "outputs": [],
   "source": []
  }
 ],
 "metadata": {
  "kernelspec": {
   "display_name": "Python 3",
   "language": "python",
   "name": "python3"
  },
  "language_info": {
   "codemirror_mode": {
    "name": "ipython",
    "version": 3
   },
   "file_extension": ".py",
   "mimetype": "text/x-python",
   "name": "python",
   "nbconvert_exporter": "python",
   "pygments_lexer": "ipython3",
   "version": "3.6.3"
  },
  "varInspector": {
   "cols": {
    "lenName": 16,
    "lenType": 16,
    "lenVar": 40
   },
   "kernels_config": {
    "python": {
     "delete_cmd_postfix": "",
     "delete_cmd_prefix": "del ",
     "library": "var_list.py",
     "varRefreshCmd": "print(var_dic_list())"
    },
    "r": {
     "delete_cmd_postfix": ") ",
     "delete_cmd_prefix": "rm(",
     "library": "var_list.r",
     "varRefreshCmd": "cat(var_dic_list()) "
    }
   },
   "types_to_exclude": [
    "module",
    "function",
    "builtin_function_or_method",
    "instance",
    "_Feature"
   ],
   "window_display": false
  }
 },
 "nbformat": 4,
 "nbformat_minor": 2
}
